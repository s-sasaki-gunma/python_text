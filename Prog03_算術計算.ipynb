{
  "nbformat": 4,
  "nbformat_minor": 0,
  "metadata": {
    "colab": {
      "provenance": [],
      "authorship_tag": "ABX9TyMKcL5cLlSOjtSAiOTLaYB8",
      "include_colab_link": true
    },
    "kernelspec": {
      "name": "python3",
      "display_name": "Python 3"
    },
    "language_info": {
      "name": "python"
    }
  },
  "cells": [
    {
      "cell_type": "markdown",
      "metadata": {
        "id": "view-in-github",
        "colab_type": "text"
      },
      "source": [
        "<a href=\"https://colab.research.google.com/github/s-sasaki-gunma/python_text/blob/main/Prog03_%E7%AE%97%E8%A1%93%E8%A8%88%E7%AE%97.ipynb\" target=\"_parent\"><img src=\"https://colab.research.google.com/assets/colab-badge.svg\" alt=\"Open In Colab\"/></a>"
      ]
    },
    {
      "cell_type": "markdown",
      "source": [
        "# 例題3.1\n",
        "## 次の5つコードはそれぞれ計算結果がいくつになるか考えてから実行して確かめよう！\n",
        "- プリントの予想欄に $y$ の値を書き込みましょう"
      ],
      "metadata": {
        "id": "c4u6kPI8bbLt"
      }
    },
    {
      "cell_type": "code",
      "source": [
        "#例題3.1a\n",
        "a, b, c = 2, 4, 6    # 変数 a,b,c にまとめて数字を代入\n",
        "y = a + b * c        # 変数 y に右辺の計算結果を代入\n",
        "print(y)             # 変数 y を表示"
      ],
      "metadata": {
        "id": "h-3RZ-k_bn8l"
      },
      "execution_count": null,
      "outputs": []
    },
    {
      "cell_type": "code",
      "source": [
        "#例題3.1b\n",
        "y = 2\n",
        "y = y + 1\n",
        "print(y)"
      ],
      "metadata": {
        "id": "G5KdSzEPbmO0"
      },
      "execution_count": null,
      "outputs": []
    },
    {
      "cell_type": "code",
      "execution_count": null,
      "metadata": {
        "id": "eZuYNHExbGd8"
      },
      "outputs": [],
      "source": [
        "#例題3.1c\n",
        "a, b = 0.1, 3\n",
        "y = a * b\n",
        "print(y)"
      ]
    },
    {
      "cell_type": "code",
      "source": [
        "#例題3.1d\n",
        "a, b = \"123\", \"654\"\n",
        "y = a + b\n",
        "print(y)"
      ],
      "metadata": {
        "id": "wQOOcDFQbn2V"
      },
      "execution_count": null,
      "outputs": []
    },
    {
      "cell_type": "code",
      "source": [
        "#例題3.1e\n",
        "x = \"12\"\n",
        "y = x * 4\n",
        "print(y)"
      ],
      "metadata": {
        "id": "bbVAl-Chbn5E"
      },
      "execution_count": null,
      "outputs": []
    },
    {
      "cell_type": "markdown",
      "source": [
        "# 練習3\n",
        "## 2次方程式 $ x^2-5x+3=0 $ の判別式$D$を求めるプログラムを作ろう！\n",
        "- $a=1$\n",
        "- $b=-5$\n",
        "- $c=3$\n",
        "- $ D = b^2 - 4ac $"
      ],
      "metadata": {
        "id": "2rnANakVb18b"
      }
    },
    {
      "cell_type": "code",
      "source": [],
      "metadata": {
        "id": "lxxU7lKmcg5y"
      },
      "execution_count": null,
      "outputs": []
    }
  ]
}