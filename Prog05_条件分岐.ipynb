{
  "nbformat": 4,
  "nbformat_minor": 0,
  "metadata": {
    "colab": {
      "provenance": [],
      "authorship_tag": "ABX9TyOOgxvw/55558dy+rrsLo4B",
      "include_colab_link": true
    },
    "kernelspec": {
      "name": "python3",
      "display_name": "Python 3"
    },
    "language_info": {
      "name": "python"
    }
  },
  "cells": [
    {
      "cell_type": "markdown",
      "metadata": {
        "id": "view-in-github",
        "colab_type": "text"
      },
      "source": [
        "<a href=\"https://colab.research.google.com/github/s-sasaki-gunma/python_text/blob/main/Prog05_%E6%9D%A1%E4%BB%B6%E5%88%86%E5%B2%90.ipynb\" target=\"_parent\"><img src=\"https://colab.research.google.com/assets/colab-badge.svg\" alt=\"Open In Colab\"/></a>"
      ]
    },
    {
      "cell_type": "markdown",
      "source": [
        "# 例題5.1\n",
        "## 次の3つコードについて、実行時に正の数・負の数・0を入力して、出力結果を記録・確認してみよう"
      ],
      "metadata": {
        "id": "FB0vjFgZnWcW"
      }
    },
    {
      "cell_type": "code",
      "execution_count": null,
      "metadata": {
        "id": "FtF_fMxxmjAf"
      },
      "outputs": [],
      "source": [
        "#例題5.1a\n",
        "num = int(input(\"数字を入力して下さい。\"))\n",
        "if num > 0 :\n",
        "    print(num,\"は正の数\")"
      ]
    },
    {
      "cell_type": "code",
      "source": [
        "#例題5.1b\n",
        "num = int(input(\"数字を入力して下さい。\"))\n",
        "if num > 0 :\n",
        "    print(num,\"は正の数\")\n",
        "else :\n",
        "    print(num,\"は負の数\")"
      ],
      "metadata": {
        "id": "vO5EODcooubG"
      },
      "execution_count": null,
      "outputs": []
    },
    {
      "cell_type": "code",
      "source": [
        "#例題5.1c\n",
        "num = int(input(\"数字を入力して下さい。\"))\n",
        "if num > 0 :\n",
        "    print(num,\"は正の数\")\n",
        "elif num < 0 :\n",
        "    print(num,\"は負の数\")\n",
        "else :\n",
        "    print(num,\"は正でも負でもない\")"
      ],
      "metadata": {
        "id": "khmXJezXou1m"
      },
      "execution_count": null,
      "outputs": []
    },
    {
      "cell_type": "code",
      "source": [
        "#例題5.1（参考）\n",
        "#インデントによる条件分岐のスコープの範囲を確認しましょう\n",
        "n = int(input(\"0 or 1\"))\n",
        "if n == 0 :\n",
        "    print(1)\n",
        "    print(2)\n",
        "else :\n",
        "    print(3)\n",
        "    print(4)\n",
        "print(5)\n",
        "print(6)"
      ],
      "metadata": {
        "id": "Wjz80GU8s4J0"
      },
      "execution_count": null,
      "outputs": []
    },
    {
      "cell_type": "markdown",
      "source": [
        "# 例題5.2\n",
        "## 次のコードについて入力値を変えながら数回実行してみよう"
      ],
      "metadata": {
        "id": "7ar8ZuERo_Df"
      }
    },
    {
      "cell_type": "code",
      "source": [
        "#例題52\n",
        "num = int(input(\"数字を入力して下さい。\"))\n",
        "if num > 0 :\n",
        "    if num % 2 == 0 :\n",
        "        print(num,\"は正の偶数\")\n",
        "    else:\n",
        "        print(num,\"は正の奇数\")\n",
        "elif num < 0 :\n",
        "    if num % 2 == 0 :\n",
        "        print(num,\"は負の偶数\")\n",
        "    else :\n",
        "        print(num,\"は負の奇数\")\n",
        "else:\n",
        "    print(num,\"は正でも負でもない\")"
      ],
      "metadata": {
        "id": "rHHnb4OGpI-2"
      },
      "execution_count": null,
      "outputs": []
    },
    {
      "cell_type": "markdown",
      "source": [
        "# 例題5.3\n",
        "## 次のコードについて入力値を変えながら数回実行してみよう"
      ],
      "metadata": {
        "id": "83PqVbQmpGzu"
      }
    },
    {
      "cell_type": "code",
      "source": [
        "#例題5.3\n",
        "month = int(input(\"誕生月を入力して下さい。\"))\n",
        "if 3 <= month and month <= 5 :\n",
        "    print(\"春生まれ\")\n",
        "elif 6 <= month and month <= 8 :\n",
        "    print(\"夏生まれ\")\n",
        "elif 9 <= month and month <= 11 :\n",
        "    print(\"秋生まれ\")\n",
        "elif month == 12 or month == 1 or month == 2 :\n",
        "    print(\"冬生まれ\")\n",
        "else :\n",
        "    print(\"1から12までの整数を入力して下さい。\")"
      ],
      "metadata": {
        "id": "vsFHI8wGpNPe"
      },
      "execution_count": null,
      "outputs": []
    },
    {
      "cell_type": "markdown",
      "source": [
        "#参考：条件分岐の優先順位\n",
        "- プログラムは上から実行されるため、条件分岐も上に書かれているコードが優先される\n",
        "- 次のFizzBuzzと呼ばれるプログラムで確認しましょう\n",
        "  - FizzBuzzとは、入力値が３の倍数のときFizz、５の倍数のときBuzz、３の倍数かつ５の倍数のときFizzBuzzと表示するプログラムである（倍数でないときは入力値をそのまま出力する）"
      ],
      "metadata": {
        "id": "HfOJCfWdO73N"
      }
    },
    {
      "cell_type": "code",
      "source": [
        "#参考a：FizzBuzz失敗例\n",
        "n = int(input(\"整数を入力して下さい：\"))\n",
        "if n % 3 == 0 :\n",
        "    print(\"Fizz\")\n",
        "elif n % 5 == 0 :\n",
        "    print(\"Buzz\")\n",
        "elif n % 15 == 0 :\n",
        "    print(\"FizzBuzz\")\n",
        "else :\n",
        "    print(n)"
      ],
      "metadata": {
        "id": "oTFQKUS9OzEg"
      },
      "execution_count": null,
      "outputs": []
    },
    {
      "cell_type": "code",
      "source": [
        "#参考b：FizzBuzz成功例\n",
        "n = int(input(\"整数を入力して下さい：\"))\n",
        "if n % 15 == 0 :\n",
        "    print(\"FizzBuzz\")\n",
        "elif n % 3 == 0 :\n",
        "    print(\"Fizz\")\n",
        "elif n % 5 == 0 :\n",
        "    print(\"Buzz\")\n",
        "else :\n",
        "    print(n)"
      ],
      "metadata": {
        "id": "wX1s1kpWQiIf"
      },
      "execution_count": null,
      "outputs": []
    },
    {
      "cell_type": "markdown",
      "source": [
        "# 練習5\n",
        "## 次の各プログラムについて作成しよう！\n",
        "1. 手順の細分化\n",
        "2. フローチャート完成\n",
        "3. プログラムの作成"
      ],
      "metadata": {
        "id": "PRgpkWQ3paxc"
      }
    },
    {
      "cell_type": "markdown",
      "source": [
        "### (1) 整数P,Qを入力すると、大きい方の数字を表示する"
      ],
      "metadata": {
        "id": "pr7YG2D3qJJ2"
      }
    },
    {
      "cell_type": "code",
      "source": [],
      "metadata": {
        "id": "Pzmzl18tqPJU"
      },
      "execution_count": null,
      "outputs": []
    },
    {
      "cell_type": "markdown",
      "source": [
        "### (2) 整数P,Qを入力すると、数字の差の絶対値を表示する"
      ],
      "metadata": {
        "id": "gSWrrYIHqP97"
      }
    },
    {
      "cell_type": "code",
      "source": [],
      "metadata": {
        "id": "y5afFvBEqSpf"
      },
      "execution_count": null,
      "outputs": []
    },
    {
      "cell_type": "markdown",
      "source": [
        "### (3) 2次方程式 $ax^2-bx+c=0$ について、判別式 $D=b^2-4ac$ から実数解をどのように持つか表示する\n",
        "#### 表示結果は次のいずれか\n",
        "- 「実数解を1つ持つ」\n",
        "- 「実数解を2つ持つ」\n",
        "- 「実数解を持たない」"
      ],
      "metadata": {
        "id": "86GoSmexqS8z"
      }
    },
    {
      "cell_type": "code",
      "source": [],
      "metadata": {
        "id": "x63hx0VDqooj"
      },
      "execution_count": null,
      "outputs": []
    }
  ]
}