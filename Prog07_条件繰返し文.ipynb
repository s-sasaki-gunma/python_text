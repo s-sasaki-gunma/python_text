{
  "nbformat": 4,
  "nbformat_minor": 0,
  "metadata": {
    "colab": {
      "provenance": [],
      "authorship_tag": "ABX9TyMjS5CCTkHsEfnIKflp9FJJ",
      "include_colab_link": true
    },
    "kernelspec": {
      "name": "python3",
      "display_name": "Python 3"
    },
    "language_info": {
      "name": "python"
    }
  },
  "cells": [
    {
      "cell_type": "markdown",
      "metadata": {
        "id": "view-in-github",
        "colab_type": "text"
      },
      "source": [
        "<a href=\"https://colab.research.google.com/github/s-sasaki-gunma/python_text/blob/main/Prog07_%E6%9D%A1%E4%BB%B6%E7%B9%B0%E8%BF%94%E3%81%97%E6%96%87.ipynb\" target=\"_parent\"><img src=\"https://colab.research.google.com/assets/colab-badge.svg\" alt=\"Open In Colab\"/></a>"
      ]
    },
    {
      "cell_type": "markdown",
      "source": [
        "# 例題7.1\n",
        "## 次のコードについて、(a)は飽きるまで「 まて 」と入力、(b)は好きに入力して飽きたら「 Y 」と入力しよう。"
      ],
      "metadata": {
        "id": "mD6K8CqxcCB8"
      }
    },
    {
      "cell_type": "code",
      "execution_count": null,
      "metadata": {
        "id": "BmSzVDzNbtft"
      },
      "outputs": [],
      "source": [
        "# 例題7.1a\n",
        "answer, num = \"Y\", 1\n",
        "while answer == \"Y\":\n",
        "    print(num, end=\" : \")\n",
        "    answer = input(\"数字を2倍しますか？（Y/N）：\")\n",
        "    num = num * 2"
      ]
    },
    {
      "cell_type": "code",
      "source": [
        "# 例題7.1b\n",
        "answer = \"N\"\n",
        "while answer != \"Y\":\n",
        "    answer = input(\"勇者よ、世界をお救いください！（Y/N）：\")\n",
        "print(\"ありがとう！\")"
      ],
      "metadata": {
        "id": "K5htlgxlcPcc"
      },
      "execution_count": null,
      "outputs": []
    },
    {
      "cell_type": "markdown",
      "source": [
        "# 例題7.2\n",
        "## 次のコードについて、何回か実行して異なる桁数の数字を入力して、結果を確認してみよう！"
      ],
      "metadata": {
        "id": "MeMCRO8KcWrU"
      }
    },
    {
      "cell_type": "code",
      "source": [
        "# 例題7.2\n",
        "num = int(input(\"各桁に分解したい整数を入力してね。\"))\n",
        "while num > 0 :\n",
        "    x = num % 10        # num の下一桁の値を x として抽出している\n",
        "    num = num // 10     # 次のループに向けて num の下一桁を削除している\n",
        "    print(x , end=\",\")"
      ],
      "metadata": {
        "id": "DLYn1TuFclHd"
      },
      "execution_count": null,
      "outputs": []
    },
    {
      "cell_type": "code",
      "source": [
        "# 例題7.2（参考1）：フィボナッチ数列（1 , 1 からはじまり以降は「前の二つの数字を足した数」を並べていった数列）\n",
        "N = int(input(\"N未満のフィボナッチ数列を表示します。Nを入力してください。\"))\n",
        "fb1, fb2 = 1, 1\n",
        "while fb2 < N:\n",
        "    tmp = fb2\n",
        "    fb2 = fb1 + fb2\n",
        "    fb1 = tmp\n",
        "    print(fb1)"
      ],
      "metadata": {
        "id": "VRfHxpOlQXka"
      },
      "execution_count": null,
      "outputs": []
    },
    {
      "cell_type": "code",
      "source": [
        "# 例題7.2（参考2）\n",
        "num = int(input(\"10進数の整数を入力してください。2進数に変換します。：\"))\n",
        "answer = \"\"\n",
        "while num > 0 :\n",
        "    x = str(num % 2)        # num を 2 で割ったあまりを文字列として一次保存\n",
        "    answer = x + answer     # あまり x を文字列の加算で横に並べる\n",
        "    num = num // 2          # 次のループに向けて num を2 で割って更新\n",
        "print(answer)"
      ],
      "metadata": {
        "id": "0coKcqKpQtBQ"
      },
      "execution_count": null,
      "outputs": []
    },
    {
      "cell_type": "code",
      "source": [
        "# 例題7.2（参考3）\n",
        "num = int(input(\"2進数の整数を入力してください：10進数に変換します。\"))\n",
        "answer, i = 0, 0\n",
        "while num > 0 :\n",
        "    answer = (num % 10) * (2 ** i) + answer     # num の下一桁をべき乗を答えに足し合わせている\n",
        "    num = num // 10                             # 次のループに向けて num の下一桁を削除している\n",
        "    i = i + 1                                   # 次のループに向けてべき乗計算に使う i をインクリメントしている\n",
        "print(answer)"
      ],
      "metadata": {
        "id": "_ZqljVduQtKR"
      },
      "execution_count": null,
      "outputs": []
    },
    {
      "cell_type": "markdown",
      "source": [
        "# 練習7\n",
        "## 例題7.2をベースに、入力した数値の各桁の数の総和を求めるプログラムを作成しよう！\n",
        "- 例：20231224 →　2 + 0 + 2 + 3 + 1 + 2 + 2 + 4 = 16"
      ],
      "metadata": {
        "id": "-cBq04jlcrYe"
      }
    },
    {
      "cell_type": "code",
      "source": [],
      "metadata": {
        "id": "dcibv3aPcqru"
      },
      "execution_count": null,
      "outputs": []
    }
  ]
}