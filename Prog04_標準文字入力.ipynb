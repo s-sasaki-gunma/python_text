{
  "cells": [
    {
      "cell_type": "markdown",
      "metadata": {
        "id": "view-in-github",
        "colab_type": "text"
      },
      "source": [
        "<a href=\"https://colab.research.google.com/github/s-sasaki-gunma/python_text/blob/main/Prog04_%E6%A8%99%E6%BA%96%E6%96%87%E5%AD%97%E5%85%A5%E5%8A%9B.ipynb\" target=\"_parent\"><img src=\"https://colab.research.google.com/assets/colab-badge.svg\" alt=\"Open In Colab\"/></a>"
      ]
    },
    {
      "cell_type": "markdown",
      "metadata": {
        "id": "yyNnQJrWdBrI"
      },
      "source": [
        "# 例題4.1\n",
        "## 次のコードについて入力内容を変えながら数回実行してみよう\n",
        "1. 実行すると入力欄が表示されます\n",
        "2. 入力欄をマウスでクリックして選択してから入力しましょう\n",
        "3. 入力後は「Enter」で確定すると次に進みます\n"
      ]
    },
    {
      "cell_type": "code",
      "execution_count": null,
      "metadata": {
        "id": "cCcAeIW6cq0I"
      },
      "outputs": [],
      "source": [
        "#例題4.1\n",
        "myname = input(\"名前を入力してね。\")   # 実行中に入力データを文字として変数 myname に代入する\n",
        "print(\"こんにちは\" , myname , \"さん\")"
      ]
    },
    {
      "cell_type": "markdown",
      "metadata": {
        "id": "iDsp2dOidLkw"
      },
      "source": [
        "# 例題4.2\n",
        "## 次の２つのコードについて入力値を自分で決めて、結果を予想してから実行して確かめよう！\n",
        "- 予想をプリントに書きましょう。\n",
        "- $input()$ のみによる標準文字入力は、整数／小数／文字のどれでしょうか？授業プリントに◯をつけましょう。"
      ]
    },
    {
      "cell_type": "code",
      "execution_count": null,
      "metadata": {
        "id": "jYfaJCOIdSfJ"
      },
      "outputs": [],
      "source": [
        "#例題4.2a\n",
        "x = input(\"数字を入力。\")\n",
        "y = 3 * x\n",
        "print(y)"
      ]
    },
    {
      "cell_type": "code",
      "execution_count": null,
      "metadata": {
        "id": "INVQD-ocdxWw"
      },
      "outputs": [],
      "source": [
        "#例題4.2b\n",
        "x = float(input(\"数字を入力。\"))\n",
        "y = 3 * x\n",
        "print(y)"
      ]
    },
    {
      "cell_type": "code",
      "execution_count": null,
      "metadata": {
        "id": "Nt8_2jc3Mmta"
      },
      "outputs": [],
      "source": [
        "#例題4.2（参考）\n",
        "x1 = 123    #整数\n",
        "x2 = 123.0  #小数\n",
        "x3 = \"123\"  #文字\n",
        "y1 = 3 * x1\n",
        "y2 = 3 * x2\n",
        "y3 = 3 * x3\n",
        "print(y1)\n",
        "print(y2)\n",
        "print(y3)"
      ]
    },
    {
      "cell_type": "markdown",
      "metadata": {
        "id": "y8bZ3MwQeRWa"
      },
      "source": [
        "# 練習4\n",
        "## プログラム実行中に $a,b,c$ の入力を受け付けて判別式 $D$ を求めるプログラムを作ろう！\n",
        "- $a=入力値$\n",
        "- $b=入力値$\n",
        "- $c=入力値$\n",
        "- $ D = b^2 - 4ac $"
      ]
    },
    {
      "cell_type": "code",
      "execution_count": null,
      "metadata": {
        "id": "wnPDiwgle1yi"
      },
      "outputs": [],
      "source": []
    }
  ],
  "metadata": {
    "colab": {
      "provenance": [],
      "authorship_tag": "ABX9TyOxWBqY8E+2iNcc0N8udR7a",
      "include_colab_link": true
    },
    "kernelspec": {
      "display_name": "Python 3",
      "language": "python",
      "name": "python3"
    },
    "language_info": {
      "codemirror_mode": {
        "name": "ipython",
        "version": 3
      },
      "file_extension": ".py",
      "mimetype": "text/x-python",
      "name": "python",
      "nbconvert_exporter": "python",
      "pygments_lexer": "ipython3",
      "version": "3.9.2"
    }
  },
  "nbformat": 4,
  "nbformat_minor": 0
}