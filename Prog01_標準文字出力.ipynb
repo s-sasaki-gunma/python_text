{
  "nbformat": 4,
  "nbformat_minor": 0,
  "metadata": {
    "colab": {
      "provenance": [],
      "authorship_tag": "ABX9TyOmUCa2syosr/mzf9Sun52Y",
      "include_colab_link": true
    },
    "kernelspec": {
      "name": "python3",
      "display_name": "Python 3"
    },
    "language_info": {
      "name": "python"
    }
  },
  "cells": [
    {
      "cell_type": "markdown",
      "metadata": {
        "id": "view-in-github",
        "colab_type": "text"
      },
      "source": [
        "<a href=\"https://colab.research.google.com/github/s-sasaki-gunma/python_text/blob/main/Prog01_%E6%A8%99%E6%BA%96%E6%96%87%E5%AD%97%E5%87%BA%E5%8A%9B.ipynb\" target=\"_parent\"><img src=\"https://colab.research.google.com/assets/colab-badge.svg\" alt=\"Open In Colab\"/></a>"
      ]
    },
    {
      "cell_type": "markdown",
      "source": [
        "# 例題1.1\n",
        "## 次の2つのコードを実行しよう！\n",
        "- 次のセルをクリックして選択すると再生ボタンから実行できる"
      ],
      "metadata": {
        "id": "qpzG2tkpWx1_"
      }
    },
    {
      "cell_type": "code",
      "execution_count": null,
      "metadata": {
        "id": "7X6OzSauV_o7"
      },
      "outputs": [],
      "source": [
        "#例題1.1a\n",
        "print(\"Hello world\")    #文字出力"
      ]
    },
    {
      "cell_type": "code",
      "source": [
        "#例題1.1b\n",
        "print(\"数字\", 1, 6.02, 273)  # 複数の値を並べて表示"
      ],
      "metadata": {
        "id": "pECgruJkWWHW"
      },
      "execution_count": null,
      "outputs": []
    },
    {
      "cell_type": "code",
      "source": [
        "#例題1.1（参考）\n",
        "print(\"Hello\")\n",
        "print(\"world\")"
      ],
      "metadata": {
        "id": "8zfsu62hQHXx"
      },
      "execution_count": null,
      "outputs": []
    },
    {
      "cell_type": "markdown",
      "source": [
        "# 例題1.2\n",
        "## 次の2つコードがどのような表示になるか予想をプリントに書いてから、結果を確認しよう！"
      ],
      "metadata": {
        "id": "CoQmSk1FW3tf"
      }
    },
    {
      "cell_type": "code",
      "source": [
        "#例題1.2a\n",
        "print(\"大\")\n",
        "print(\"光\")\n",
        "print(\"院\")"
      ],
      "metadata": {
        "id": "Qn_fbdCaWfjn"
      },
      "execution_count": null,
      "outputs": []
    },
    {
      "cell_type": "code",
      "source": [
        "#例題1.2b\n",
        "print(\"太\",\"田\")\n",
        "print(\"女子\", end=\"\")\n",
        "print(\"高校\")"
      ],
      "metadata": {
        "id": "Yq2tPXkgWjd4"
      },
      "execution_count": null,
      "outputs": []
    },
    {
      "cell_type": "markdown",
      "source": [
        "# 練習1\n",
        "## print関数を使って自分の名前を出力するプログラムを作成しよう！"
      ],
      "metadata": {
        "id": "373WdAbHXdj2"
      }
    },
    {
      "cell_type": "code",
      "source": [],
      "metadata": {
        "id": "gQZlrV3hXjYg"
      },
      "execution_count": null,
      "outputs": []
    }
  ]
}