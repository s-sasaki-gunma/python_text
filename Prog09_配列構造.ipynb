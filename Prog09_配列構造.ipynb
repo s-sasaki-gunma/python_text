{
  "cells": [
    {
      "cell_type": "markdown",
      "metadata": {
        "id": "view-in-github",
        "colab_type": "text"
      },
      "source": [
        "<a href=\"https://colab.research.google.com/github/s-sasaki-gunma/python_text/blob/main/Prog09_%E9%85%8D%E5%88%97%E6%A7%8B%E9%80%A0.ipynb\" target=\"_parent\"><img src=\"https://colab.research.google.com/assets/colab-badge.svg\" alt=\"Open In Colab\"/></a>"
      ]
    },
    {
      "cell_type": "markdown",
      "metadata": {
        "id": "f2-cD6sRYm1r"
      },
      "source": [
        "# 例題9.1\n",
        "## 次のコードについて、上から順番に実行していくとどのように表示されるか予想してから、結果を確認しよう！"
      ]
    },
    {
      "cell_type": "code",
      "execution_count": null,
      "metadata": {
        "id": "KpId4BtAYWeQ"
      },
      "outputs": [],
      "source": [
        "#例題9.1a\n",
        "a = [1, 1, 2, 3, 5, 8, 13, 21, 34]\n",
        "print(a)"
      ]
    },
    {
      "cell_type": "code",
      "execution_count": null,
      "metadata": {
        "id": "TyMOheZqY1yW"
      },
      "outputs": [],
      "source": [
        "#例題9.1b\n",
        "print(a[6])"
      ]
    },
    {
      "cell_type": "code",
      "execution_count": null,
      "metadata": {
        "id": "NV8711rGY4pS"
      },
      "outputs": [],
      "source": [
        "#例題9.1c\n",
        "print(len(a))"
      ]
    },
    {
      "cell_type": "code",
      "execution_count": null,
      "metadata": {
        "id": "on34ATURY5PN"
      },
      "outputs": [],
      "source": [
        "#例題9.1d\n",
        "for i in range(len(a)) :\n",
        "    print(a[i] , end=\" \")"
      ]
    },
    {
      "cell_type": "code",
      "execution_count": null,
      "metadata": {
        "id": "YVyD6sZvY62C"
      },
      "outputs": [],
      "source": [
        "#例題9.1e\n",
        "a.append(55)\n",
        "print(a)"
      ]
    },
    {
      "cell_type": "code",
      "execution_count": null,
      "metadata": {
        "id": "GsP7alfnY8sV"
      },
      "outputs": [],
      "source": [
        "#例題9.1f\n",
        "a[7] = 1000\n",
        "print(a)"
      ]
    },
    {
      "cell_type": "markdown",
      "metadata": {
        "id": "p6X2ttpWZBWL"
      },
      "source": [
        "# 例題9.2\n",
        "## 次のコードについて、何回か実行して、結果を確認しよう！"
      ]
    },
    {
      "cell_type": "code",
      "execution_count": null,
      "metadata": {
        "id": "Ev1VHZ1MY-8L"
      },
      "outputs": [],
      "source": [
        "#例題9.2\n",
        "import random\n",
        "r = []                               # 空の配列を生成\n",
        "for i in range(10):\n",
        "    r.append( random.randint(1,100) )  # 配列の末尾に乱数を追記\n",
        "print(r)"
      ]
    },
    {
      "cell_type": "markdown",
      "metadata": {
        "id": "43vwT7XzZuDL"
      },
      "source": [
        "# 練習9\n",
        "## 次の各プログラムについて、手順の細分化をして、フローチャートを完成させた上で作成しよう！"
      ]
    },
    {
      "cell_type": "markdown",
      "metadata": {
        "id": "yHlmhEQJZ0Pz"
      },
      "source": [
        "### (1) 要素数10個の乱数配列を生成・表示して、リスト中から最大値を見つけ出すプログラム\n",
        "- 最大値を記録するための変数 $y$ を用意しておき、端から順番に確認していく中で大きい値を見つけるたびにその変数を更新していこう"
      ]
    },
    {
      "cell_type": "code",
      "execution_count": null,
      "metadata": {
        "id": "41wrJo9QZ5BW"
      },
      "outputs": [],
      "source": [
        "import random\n",
        "r = []\n",
        "for i in range(10):\n",
        "    r.append( random.randint(1,100) )\n",
        "print(\"最初：\", r)\n",
        "y = 0\n",
        "#ここから先に書き加える\n",
        "\n",
        "\n",
        "\n",
        "#ここまで\n",
        "print(\"結果：\", y)"
      ]
    },
    {
      "cell_type": "markdown",
      "metadata": {
        "id": "kOu4PpDgZ5LT"
      },
      "source": [
        "### (2) 要素数10個の乱数配列を生成・表示して、リストを昇順に並び替えるプログラム\n",
        "- 端から順番に隣接する値を大きい順になるよう入れ替えることを考えよう"
      ]
    },
    {
      "cell_type": "code",
      "execution_count": null,
      "metadata": {
        "id": "GNpr-IeXSNfN"
      },
      "outputs": [],
      "source": [
        "#参考：データの入れ替え\n",
        "a = [5,4,3,2,1]\n",
        "print(\"最初：\", a)\n",
        "\n",
        "# 0番目と1番目の値を入れ替えるとき\n",
        "temp = a[0]\n",
        "a[0] = a[1]\n",
        "a[1] = temp\n",
        "\n",
        "print(\"結果：\", a)"
      ]
    },
    {
      "cell_type": "code",
      "execution_count": null,
      "metadata": {
        "id": "PdQxoX-zZ-hb"
      },
      "outputs": [],
      "source": [
        "import random\n",
        "r = []\n",
        "for i in range(10):\n",
        "    r.append( random.randint(1,100) )\n",
        "print(\"最初：\", r)\n",
        "#ここから先に書き加える\n",
        "\n",
        "\n",
        "\n",
        "#ここまで\n",
        "print(\"結果：\", r)"
      ]
    }
  ],
  "metadata": {
    "colab": {
      "provenance": [],
      "include_colab_link": true
    },
    "kernelspec": {
      "display_name": "Python 3",
      "language": "python",
      "name": "python3"
    },
    "language_info": {
      "codemirror_mode": {
        "name": "ipython",
        "version": 3
      },
      "file_extension": ".py",
      "mimetype": "text/x-python",
      "name": "python",
      "nbconvert_exporter": "python",
      "pygments_lexer": "ipython3",
      "version": "3.9.2"
    }
  },
  "nbformat": 4,
  "nbformat_minor": 0
}