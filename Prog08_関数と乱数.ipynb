{
  "cells": [
    {
      "cell_type": "markdown",
      "metadata": {
        "id": "view-in-github",
        "colab_type": "text"
      },
      "source": [
        "<a href=\"https://colab.research.google.com/github/s-sasaki-gunma/python_text/blob/main/Prog08_%E9%96%A2%E6%95%B0%E3%81%A8%E4%B9%B1%E6%95%B0.ipynb\" target=\"_parent\"><img src=\"https://colab.research.google.com/assets/colab-badge.svg\" alt=\"Open In Colab\"/></a>"
      ]
    },
    {
      "cell_type": "markdown",
      "metadata": {
        "id": "fHVJuIaFGHUs"
      },
      "source": [
        "# 関数\n",
        "- 「関数」として記述することで任意の命令の組み合わせをひとつのまとまりとして扱うことができる\n",
        "- 複数回使う命令の組み合わせは「関数」にしておくと便利である"
      ]
    },
    {
      "cell_type": "code",
      "execution_count": null,
      "metadata": {
        "id": "UH9bfkBPGF_-"
      },
      "outputs": [],
      "source": [
        "# 例題8.0a 関数の書き方＆使い方\n",
        "\n",
        "# 関数定義部分\n",
        "def hantei(a):\n",
        "    if a % 2 == 0 :\n",
        "        ret = \"偶数\"\n",
        "    else :\n",
        "        ret = \"奇数\"\n",
        "    return ret\n",
        "\n",
        "# 関数呼出部分\n",
        "y = hantei(2)\n",
        "print(y)\n",
        "y = hantei(39)\n",
        "print(y)"
      ]
    },
    {
      "cell_type": "markdown",
      "metadata": {
        "id": "MznZxUW5R1wr"
      },
      "source": [
        "## 再帰呼出\n",
        "- ある関数の定義の中にその関数自身を呼び出している箇所があるとき、その呼び出しを「再帰呼出」と言う\n",
        "- forやwhileを使わずに繰り返し処理を書くことができる\n",
        "- 計算機のリソース（主にメモリ）を一時的に大量に要求される"
      ]
    },
    {
      "cell_type": "code",
      "execution_count": null,
      "metadata": {
        "id": "FwsHFZXaPLb2"
      },
      "outputs": [],
      "source": [
        "# 例題8.0b 再帰呼出：総和\n",
        "\n",
        "def recursive_sum(n):\n",
        "    if n <= 0:\n",
        "        return n\n",
        "    else :\n",
        "        return n + recursive_sum(n-1)\n",
        "\n",
        "print(recursive_sum(10))"
      ]
    },
    {
      "cell_type": "code",
      "execution_count": null,
      "metadata": {
        "id": "J6Pv-IxDTGc5"
      },
      "outputs": [],
      "source": [
        "# 例題8.0c 再帰呼出：フィボナッチ数列\n",
        "\n",
        "def fibo(n):\n",
        "    if n < 2:\n",
        "        return 1\n",
        "    else :\n",
        "        return fibo(n-2) + fibo(n-1)\n",
        "\n",
        "print(fibo(10))"
      ]
    },
    {
      "cell_type": "markdown",
      "metadata": {
        "id": "h-ZTNFFWGQfM"
      },
      "source": [
        "# 乱数\n",
        "- 指定された範囲で無作為な値を１つ発生させる\n",
        "- Pythonではrandomモジュールのrandint()関数などを用いる"
      ]
    },
    {
      "cell_type": "markdown",
      "metadata": {
        "id": "skUKFhwXsdl-"
      },
      "source": [
        "# 例題8.1\n",
        "## 次のコードを何回か実行して結果を確認してみよう！"
      ]
    },
    {
      "cell_type": "code",
      "execution_count": null,
      "metadata": {
        "id": "JgYUlnAZo9OE"
      },
      "outputs": [],
      "source": [
        "#例題8.1\n",
        "import random               # モジュールの読み込み\n",
        "r = random.randint(1,100)   # randomモジュール内のrandint()関数を呼び出している\n",
        "print(r)"
      ]
    },
    {
      "cell_type": "code",
      "execution_count": null,
      "metadata": {
        "id": "tdit5E0ntEcV"
      },
      "outputs": [],
      "source": [
        "#例題8.1（参考）\n",
        "#どんな乱数を生み出しているかな？\n",
        "import random\n",
        "r = random.randint(1,100)\n",
        "r = 100 * r\n",
        "print(r)"
      ]
    },
    {
      "cell_type": "markdown",
      "metadata": {
        "id": "3PYe1yXksmu7"
      },
      "source": [
        "# 練習8\n",
        "## 1以上1000以下の「奇数」をランダムに表示するプログラムを組んでみよう！"
      ]
    },
    {
      "cell_type": "code",
      "execution_count": null,
      "metadata": {
        "id": "w57Db16tswGn"
      },
      "outputs": [],
      "source": []
    }
  ],
  "metadata": {
    "colab": {
      "provenance": [],
      "authorship_tag": "ABX9TyOwWmEnPE+CbazyZTy5Fnmj",
      "include_colab_link": true
    },
    "kernelspec": {
      "display_name": "Python 3",
      "language": "python",
      "name": "python3"
    },
    "language_info": {
      "codemirror_mode": {
        "name": "ipython",
        "version": 3
      },
      "file_extension": ".py",
      "mimetype": "text/x-python",
      "name": "python",
      "nbconvert_exporter": "python",
      "pygments_lexer": "ipython3",
      "version": "3.9.2"
    }
  },
  "nbformat": 4,
  "nbformat_minor": 0
}