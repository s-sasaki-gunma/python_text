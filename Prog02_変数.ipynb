{
  "nbformat": 4,
  "nbformat_minor": 0,
  "metadata": {
    "colab": {
      "provenance": [],
      "authorship_tag": "ABX9TyPZOV+KB7iV38VCyhYNuXCO",
      "include_colab_link": true
    },
    "kernelspec": {
      "name": "python3",
      "display_name": "Python 3"
    },
    "language_info": {
      "name": "python"
    }
  },
  "cells": [
    {
      "cell_type": "markdown",
      "metadata": {
        "id": "view-in-github",
        "colab_type": "text"
      },
      "source": [
        "<a href=\"https://colab.research.google.com/github/s-sasaki-gunma/python_text/blob/main/Prog02_%E5%A4%89%E6%95%B0.ipynb\" target=\"_parent\"><img src=\"https://colab.research.google.com/assets/colab-badge.svg\" alt=\"Open In Colab\"/></a>"
      ]
    },
    {
      "cell_type": "markdown",
      "source": [
        "# 例題2.1\n",
        "## 次のコードは何をしているのか実行して確認しよう！"
      ],
      "metadata": {
        "id": "D4CYFaVSYAwY"
      }
    },
    {
      "cell_type": "code",
      "execution_count": null,
      "metadata": {
        "id": "XNBbaejcXwgd"
      },
      "outputs": [],
      "source": [
        "#例題2.1\n",
        "aisatsu = \"こんにちは\"  # 変数へ文字の代入\n",
        "print(aisatsu)          # 変数の出力"
      ]
    },
    {
      "cell_type": "markdown",
      "source": [
        "# 例題2.2\n",
        "## 次の2つコードがどのような表示になるか予想をプリントに書いてから、結果を確認しよう！"
      ],
      "metadata": {
        "id": "TlNk_ZBeYHzn"
      }
    },
    {
      "cell_type": "code",
      "source": [
        "#例題2.2a\n",
        "x = 1                   #変数 x に数値を代入\n",
        "y = 3                   #変数 y に数値を代入\n",
        "x = y                   #変数 x を y の値で上書き\n",
        "y = x                   #変数 y を x の値で上書き\n",
        "print(x,y)              #出力"
      ],
      "metadata": {
        "id": "sf5_1lrUYPu3"
      },
      "execution_count": null,
      "outputs": []
    },
    {
      "cell_type": "code",
      "source": [
        "#例題2.2b\n",
        "numA = 3                #変数 numA に数値を代入\n",
        "numB = 10               #変数 numB に数値を代入\n",
        "temp = numA             #変数 temp に numA の値を代入\n",
        "numA = numB             #変数 numA を numB の値で上書き\n",
        "numB = temp             #変数 numB を temp の値で上書き\n",
        "print(numA, numB)       #出力"
      ],
      "metadata": {
        "id": "sVs9zoFqY7HW"
      },
      "execution_count": null,
      "outputs": []
    },
    {
      "cell_type": "markdown",
      "source": [
        "# 例題2.3\n",
        "## 次の2つコードがどのような表示になるか予想をプリントに書いてから、結果を確認しよう！\n",
        "- $int( )$ による整数化は、四捨五入／切り捨て／切り上げのどれでしょうか？"
      ],
      "metadata": {
        "id": "-2bA4j8PZtTA"
      }
    },
    {
      "cell_type": "code",
      "source": [
        "#例題2.3a\n",
        "pi = 3.141592\n",
        "pi = int(pi)   # pi を整数化して pi に再代入（上書き）\n",
        "print(pi)"
      ],
      "metadata": {
        "id": "KS-9ZgePZ1OJ"
      },
      "execution_count": null,
      "outputs": []
    },
    {
      "cell_type": "code",
      "source": [
        "#例題2.3b\n",
        "g = 9.80665\n",
        "g = int(g)     # g を整数化して g に再代入（上書き）\n",
        "print(g)"
      ],
      "metadata": {
        "id": "1k5ZAeRoZ22n"
      },
      "execution_count": null,
      "outputs": []
    },
    {
      "cell_type": "code",
      "source": [
        "#例題2.3（参考）\n",
        "n = 1.5\n",
        "n = int(n)\n",
        "print(n)"
      ],
      "metadata": {
        "id": "1pBStOT9Q6kQ"
      },
      "execution_count": null,
      "outputs": []
    },
    {
      "cell_type": "markdown",
      "source": [
        "# 練習2\n",
        "## 変数を用いて自分の名前を表示するプログラムを組んでみよう。\n",
        "- 参考：例題2.1"
      ],
      "metadata": {
        "id": "5mePU9KfaSvZ"
      }
    },
    {
      "cell_type": "code",
      "source": [],
      "metadata": {
        "id": "ANVY2ZoOaL3M"
      },
      "execution_count": null,
      "outputs": []
    }
  ]
}