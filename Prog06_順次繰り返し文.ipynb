{
  "nbformat": 4,
  "nbformat_minor": 0,
  "metadata": {
    "colab": {
      "provenance": [],
      "authorship_tag": "ABX9TyNOuST4PFJF/6wsV4MTDK9L",
      "include_colab_link": true
    },
    "kernelspec": {
      "name": "python3",
      "display_name": "Python 3"
    },
    "language_info": {
      "name": "python"
    }
  },
  "cells": [
    {
      "cell_type": "markdown",
      "metadata": {
        "id": "view-in-github",
        "colab_type": "text"
      },
      "source": [
        "<a href=\"https://colab.research.google.com/github/s-sasaki-gunma/python_text/blob/main/Prog06_%E9%A0%86%E6%AC%A1%E7%B9%B0%E3%82%8A%E8%BF%94%E3%81%97%E6%96%87.ipynb\" target=\"_parent\"><img src=\"https://colab.research.google.com/assets/colab-badge.svg\" alt=\"Open In Colab\"/></a>"
      ]
    },
    {
      "cell_type": "markdown",
      "source": [
        "# 例題6.1\n",
        "## 次の2つのコードについて、それぞれどのような表示になるか予想を授業プリントに書いてから、結果を確認しよう！"
      ],
      "metadata": {
        "id": "XAnzBbd7YcWc"
      }
    },
    {
      "cell_type": "code",
      "source": [
        "#例題6.1（参考）\n",
        "for i in range( 5 ):\n",
        "    print( \"〇\" )     #ループはインデント（字下げ）された箇所を繰り返す。"
      ],
      "metadata": {
        "id": "L14iFP8MvcCb"
      },
      "execution_count": null,
      "outputs": []
    },
    {
      "cell_type": "code",
      "execution_count": null,
      "metadata": {
        "id": "ViJnD0h5YJuD"
      },
      "outputs": [],
      "source": [
        "#例題6.1a\n",
        "for i in range( 5 ):\n",
        "    print( i, end=\",\" )"
      ]
    },
    {
      "cell_type": "code",
      "source": [
        "#例題6.1b\n",
        "for i in range( 1 , 5 ):\n",
        "    x = 2 * i - 1\n",
        "    print( x , end=\",\" )"
      ],
      "metadata": {
        "id": "KZwLZDEFYzI0"
      },
      "execution_count": null,
      "outputs": []
    },
    {
      "cell_type": "markdown",
      "source": [
        "# 例題6.2\n",
        "## 次の2つのコードについて、ループを繰り返すごとに処理内の「変数の値」と「右辺の式」がどのように変化しているか予想を授業プリントの表に書いてから、結果を確認しよう。"
      ],
      "metadata": {
        "id": "lodKhvlAY4Dy"
      }
    },
    {
      "cell_type": "code",
      "source": [
        "#例題6.2a\n",
        "y = 0\n",
        "for i in range(11):\n",
        "    y = y + 5\n",
        "print( y )"
      ],
      "metadata": {
        "id": "NeBqSXcfY3YI"
      },
      "execution_count": null,
      "outputs": []
    },
    {
      "cell_type": "code",
      "source": [
        "#例題6.2b\n",
        "s = 0\n",
        "for i in range( 11 ):\n",
        "    s = s + i\n",
        "print( s )"
      ],
      "metadata": {
        "id": "m26LmGasZLvU"
      },
      "execution_count": null,
      "outputs": []
    },
    {
      "cell_type": "markdown",
      "source": [
        "# 例題6.3\n",
        "## 次のコードを読み、どのような表示結果になるのか予想して、授業プリントのi行j列の表を塗りつぶしましょう。その後、結果を確認しましょう。\n",
        " - ■が塗る、□が空白"
      ],
      "metadata": {
        "id": "Xy71xBTJZfeE"
      }
    },
    {
      "cell_type": "code",
      "source": [
        "#例題6.3a\n",
        "for i in range(6):\n",
        "    for j in range(i):      # ｊ ループの範囲に i を利用\n",
        "        print(\"■\",end=\"\")  # 改行せずに■を表示\n",
        "    print(\"\")               # 改行"
      ],
      "metadata": {
        "id": "KFNCFRisZoR8"
      },
      "execution_count": null,
      "outputs": []
    },
    {
      "cell_type": "code",
      "source": [
        "#例題6.3b\n",
        "for i in range(5):\n",
        "    for j in range(4-i):\n",
        "        print(\"□\",end=\"\")  # 改行せずに□（空白）を表示\n",
        "    for j in range(2):\n",
        "        print(\"■\",end=\"\")  # 改行せずに■を表示\n",
        "    print(\"\")"
      ],
      "metadata": {
        "id": "A5URWUx_Zter"
      },
      "execution_count": null,
      "outputs": []
    },
    {
      "cell_type": "markdown",
      "source": [
        "# 練習6\n",
        "## 次の各プログラムについて、手順の細分化をして、フローチャートを完成させた上で作成しよう！"
      ],
      "metadata": {
        "id": "2SBNiKjMZx1U"
      }
    },
    {
      "cell_type": "markdown",
      "source": [
        "### (1) 自然数aとbを入力して、繰り返し構文を使って$ y=a^b $を計算するプログラム（**を使った演算を禁ずる）"
      ],
      "metadata": {
        "id": "iYHfB19wZ3Q7"
      }
    },
    {
      "cell_type": "code",
      "source": [],
      "metadata": {
        "id": "hZzYQ0VbaFVt"
      },
      "execution_count": null,
      "outputs": []
    },
    {
      "cell_type": "markdown",
      "source": [
        "### (2) ループを利用して5マス5段の平行四辺形を表示するプログラム"
      ],
      "metadata": {
        "id": "vFKGuP7taFwV"
      }
    },
    {
      "cell_type": "code",
      "source": [],
      "metadata": {
        "id": "-_zrU_DUaSRU"
      },
      "execution_count": null,
      "outputs": []
    }
  ]
}